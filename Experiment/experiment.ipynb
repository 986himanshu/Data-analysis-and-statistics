{
 "cells": [
  {
   "cell_type": "code",
   "execution_count": null,
   "metadata": {},
   "outputs": [
    {
     "name": "stdout",
     "output_type": "stream",
     "text": [
      "[1, 1, 4, 3, 5]\n",
      "[0, 1, 1, 3, 5, 4]\n"
     ]
    }
   ],
   "source": [
    "import heapq\n"
   ]
  },
  {
   "cell_type": "code",
   "execution_count": 2,
   "metadata": {},
   "outputs": [
    {
     "name": "stdout",
     "output_type": "stream",
     "text": [
      "[1, 1, 4, 3, 5]\n",
      "[0, 1, 1, 3, 5, 4]\n"
     ]
    }
   ],
   "source": [
    "# Example:\n",
    "heap = [3, 1, 4, 1, 5]\n",
    "heapq.heapify(heap)\n",
    "print(heap)  # Heap order maintained (min element at index 0)\n",
    "heapq.heappush(heap, 0)\n",
    "print(heap) "
   ]
  },
  {
   "cell_type": "code",
   "execution_count": null,
   "metadata": {},
   "outputs": [],
   "source": []
  }
 ],
 "metadata": {
  "kernelspec": {
   "display_name": "Python 3",
   "language": "python",
   "name": "python3"
  },
  "language_info": {
   "codemirror_mode": {
    "name": "ipython",
    "version": 3
   },
   "file_extension": ".py",
   "mimetype": "text/x-python",
   "name": "python",
   "nbconvert_exporter": "python",
   "pygments_lexer": "ipython3",
   "version": "3.12.10"
  }
 },
 "nbformat": 4,
 "nbformat_minor": 2
}
