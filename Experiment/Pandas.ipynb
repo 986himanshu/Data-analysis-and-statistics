{
 "cells": [
  {
   "cell_type": "markdown",
   "metadata": {},
   "source": [
    "# Pandas problems"
   ]
  },
  {
   "cell_type": "markdown",
   "metadata": {},
   "source": [
    "### P1: Babynames vote\n",
    "You and your spouse decided to let the internet name your next child. You’ve asked the great people of the web to submit their favorite names, and you’ve compiled their submissions into a Series called babynames\n",
    "Determine how many people voted for the names ‘Chad’, ‘Ruger’, and ‘Zeltron’"
   ]
  },
  {
   "cell_type": "code",
   "execution_count": 2,
   "metadata": {},
   "outputs": [],
   "source": [
    "import numpy as np\n",
    "import pandas as pd\n",
    "\n",
    "babynames = pd.Series([\n",
    "    'Jathonathon', 'Zeltron', 'Ruger', 'Phreddy', 'Ruger', 'Chad', 'Chad',\n",
    "    'Ruger', 'Ryan', 'Ruger', 'Chad', 'Ryan', 'Phreddy', 'Phreddy', 'Phreddy',\n",
    "    'Mister', 'Zeltron', 'Ryan', 'Ruger', 'Ruger', 'Jathonathon',\n",
    "    'Jathonathon', 'Ruger', 'Chad', 'Zeltron'], dtype='string')"
   ]
  },
  {
   "cell_type": "code",
   "execution_count": 3,
   "metadata": {},
   "outputs": [
    {
     "data": {
      "text/plain": [
       "Ruger      7\n",
       "Chad       4\n",
       "Zeltron    3\n",
       "Name: count, dtype: Int64"
      ]
     },
     "execution_count": 3,
     "metadata": {},
     "output_type": "execute_result"
    }
   ],
   "source": [
    "babynames.value_counts().loc[['Ruger', 'Chad', 'Zeltron']]"
   ]
  },
  {
   "cell_type": "markdown",
   "metadata": {},
   "source": [
    "### Bees Knees Problem\n",
    "Given, two Series bees and knees, if the ith value of bees is NaN, double the ith value inside knees."
   ]
  },
  {
   "cell_type": "code",
   "execution_count": 4,
   "metadata": {},
   "outputs": [],
   "source": [
    "bees = pd.Series([True, True, False, np.nan, True, False, True, np.nan])\n",
    "knees = pd.Series([5,2,9,1,3,10,5,2], index = [7,0,2,6,3,5,1,4])"
   ]
  },
  {
   "cell_type": "code",
   "execution_count": 5,
   "metadata": {},
   "outputs": [],
   "source": [
    "# knees.loc[pd.isna(bees).to_numpy()] *= 2 In newer Pandas versions (v1.3.0+), using .loc with a boolean array requires index alignment, \n",
    "# not just positional matching."
   ]
  },
  {
   "cell_type": "code",
   "execution_count": 6,
   "metadata": {},
   "outputs": [],
   "source": [
    "knees.loc[bees[bees.isna()].index.to_numpy()] *=2"
   ]
  },
  {
   "cell_type": "code",
   "execution_count": 7,
   "metadata": {},
   "outputs": [
    {
     "name": "stdout",
     "output_type": "stream",
     "text": [
      "7    10\n",
      "0     2\n",
      "2     9\n",
      "6     1\n",
      "3     6\n",
      "5    10\n",
      "1     5\n",
      "4     2\n",
      "dtype: int64\n"
     ]
    }
   ],
   "source": [
    "print(knees)"
   ]
  },
  {
   "cell_type": "markdown",
   "metadata": {},
   "source": [
    "### Car Shopping Problem (To learn)\n",
    "After accidentally leaving an ice chest of fish and shrimp in your car for a week while you were on vacation, you’re now in the market for a new vehicle 🚗. Your insurance didn’t cover the loss, so you want to make sure you get a good deal on your new car.\n",
    "\n",
    "Given a Series of car asking_prices and another Series of car fair_prices, determine which cars for sale are a good deal. In other words, identify cars whose asking price is less than their fair price.\n",
    "\n",
    "The result should be a list of integer indices corresponding to the good deals in asking_prices."
   ]
  },
  {
   "cell_type": "code",
   "execution_count": 8,
   "metadata": {},
   "outputs": [],
   "source": [
    "asking_prices = pd.Series([5000, 7600, 9000, 8500, 7000], index=['civic', 'civic', 'camry', 'mustang', 'mustang'])\n",
    "fair_prices = pd.Series([5500, 7500, 7500], index=['civic', 'mustang', 'camry'])"
   ]
  },
  {
   "cell_type": "code",
   "execution_count": 9,
   "metadata": {},
   "outputs": [],
   "source": [
    "deals =(asking_prices - fair_prices)"
   ]
  },
  {
   "cell_type": "code",
   "execution_count": 10,
   "metadata": {},
   "outputs": [
    {
     "data": {
      "text/plain": [
       "civic     -500\n",
       "mustang   -500\n",
       "dtype: int64"
      ]
     },
     "execution_count": 10,
     "metadata": {},
     "output_type": "execute_result"
    }
   ],
   "source": [
    "good_deals = deals[deals<0]\n",
    "good_deals"
   ]
  },
  {
   "cell_type": "code",
   "execution_count": 11,
   "metadata": {},
   "outputs": [
    {
     "data": {
      "text/plain": [
       "[0, 4]"
      ]
     },
     "execution_count": 11,
     "metadata": {},
     "output_type": "execute_result"
    }
   ],
   "source": [
    "all_fair_prices = fair_prices.loc[asking_prices.index]\n",
    "off_market_prices = asking_prices - all_fair_prices\n",
    "below_fair_prices  = (off_market_prices < 0).reset_index(drop=True)\n",
    "below_fair_prices.loc[below_fair_prices].index.to_list()"
   ]
  },
  {
   "cell_type": "code",
   "execution_count": 12,
   "metadata": {},
   "outputs": [
    {
     "data": {
      "text/html": [
       "<div>\n",
       "<style scoped>\n",
       "    .dataframe tbody tr th:only-of-type {\n",
       "        vertical-align: middle;\n",
       "    }\n",
       "\n",
       "    .dataframe tbody tr th {\n",
       "        vertical-align: top;\n",
       "    }\n",
       "\n",
       "    .dataframe thead th {\n",
       "        text-align: right;\n",
       "    }\n",
       "</style>\n",
       "<table border=\"1\" class=\"dataframe\">\n",
       "  <thead>\n",
       "    <tr style=\"text-align: right;\">\n",
       "      <th></th>\n",
       "      <th>index</th>\n",
       "      <th>asking_prices</th>\n",
       "      <th>fair_prices</th>\n",
       "    </tr>\n",
       "  </thead>\n",
       "  <tbody>\n",
       "    <tr>\n",
       "      <th>0</th>\n",
       "      <td>civic</td>\n",
       "      <td>5000</td>\n",
       "      <td>5500</td>\n",
       "    </tr>\n",
       "    <tr>\n",
       "      <th>1</th>\n",
       "      <td>civic</td>\n",
       "      <td>7600</td>\n",
       "      <td>5500</td>\n",
       "    </tr>\n",
       "    <tr>\n",
       "      <th>2</th>\n",
       "      <td>camry</td>\n",
       "      <td>9000</td>\n",
       "      <td>7500</td>\n",
       "    </tr>\n",
       "    <tr>\n",
       "      <th>3</th>\n",
       "      <td>mustang</td>\n",
       "      <td>8500</td>\n",
       "      <td>7500</td>\n",
       "    </tr>\n",
       "    <tr>\n",
       "      <th>4</th>\n",
       "      <td>mustang</td>\n",
       "      <td>7000</td>\n",
       "      <td>7500</td>\n",
       "    </tr>\n",
       "  </tbody>\n",
       "</table>\n",
       "</div>"
      ],
      "text/plain": [
       "     index  asking_prices  fair_prices\n",
       "0    civic           5000         5500\n",
       "1    civic           7600         5500\n",
       "2    camry           9000         7500\n",
       "3  mustang           8500         7500\n",
       "4  mustang           7000         7500"
      ]
     },
     "execution_count": 12,
     "metadata": {},
     "output_type": "execute_result"
    }
   ],
   "source": [
    "# Using pandas dataframe\n",
    "\n",
    "# Creating merged table\n",
    "\n",
    "market = asking_prices.to_frame().rename(columns= {0: 'asking_prices'}).merge( \n",
    "    fair_prices.to_frame(), how= 'left', left_index= True, right_index= True).rename(\n",
    "    columns= {0: 'fair_prices'}\n",
    ").reset_index()\n",
    "market"
   ]
  },
  {
   "cell_type": "code",
   "execution_count": 13,
   "metadata": {},
   "outputs": [
    {
     "data": {
      "text/plain": [
       "[0, 4]"
      ]
     },
     "execution_count": 13,
     "metadata": {},
     "output_type": "execute_result"
    }
   ],
   "source": [
    "market[market.asking_prices < market.fair_prices].index.to_list()"
   ]
  },
  {
   "cell_type": "markdown",
   "metadata": {},
   "source": [
    "#### Price Gouging Problem\n",
    "You suspect your local grocery’s been price gouging the ground beef. You and some friends decide to track the price of ground beef every day for 10 days. You’ve compiled the data into a Series called beef_prices, whose index represents the day of each recording.\n",
    "\n",
    "For example, beef was priced 3.37 on the first day, 4.64 on the second day, etc.\n",
    "\n",
    "Determine which day had the biggest price increase from the prior day."
   ]
  },
  {
   "cell_type": "code",
   "execution_count": 14,
   "metadata": {},
   "outputs": [],
   "source": [
    "generator = np.random.default_rng(123)\n",
    "beef_prices = pd.Series(\n",
    "    data = np.round(generator.uniform(low=3, high=5, size=10), 2),\n",
    "    index = generator.choice(10, size=10, replace=False)\n",
    ")"
   ]
  },
  {
   "cell_type": "code",
   "execution_count": 15,
   "metadata": {},
   "outputs": [
    {
     "name": "stdout",
     "output_type": "stream",
     "text": [
      "4    4.36\n",
      "8    3.11\n",
      "2    3.44\n",
      "0    3.37\n",
      "6    3.35\n",
      "9    4.62\n",
      "3    4.85\n",
      "5    3.55\n",
      "1    4.64\n",
      "7    4.78\n",
      "dtype: float64\n"
     ]
    }
   ],
   "source": [
    "print(beef_prices)"
   ]
  },
  {
   "cell_type": "code",
   "execution_count": 16,
   "metadata": {},
   "outputs": [
    {
     "data": {
      "text/plain": [
       "9"
      ]
     },
     "execution_count": 16,
     "metadata": {},
     "output_type": "execute_result"
    }
   ],
   "source": [
    "beef_prices.sort_index(inplace= True)\n",
    "beef_prices_prev = beef_prices.shift(periods = 1 )\n",
    "beef_price_increase = beef_prices - beef_prices_prev\n",
    "beef_price_increase.idxmax()"
   ]
  },
  {
   "cell_type": "markdown",
   "metadata": {},
   "source": [
    "#### Fair Teams Problem\n",
    "You’re organizing a competitive rock-skipping league. 6 coaches and 20 players have signed up. Your job is to randomly and fairly determine the teams, assigning players to coaches. Keep in mind that some teams will have three players and some teams will have four players. Given a Series of coaches and a Series of players, create a Series of random coach-to-player mappings. The resulting Series should have coach names in its index and corresponding player names in its values.\n"
   ]
  },
  {
   "attachments": {
    "image.png": {
     "image/png": "[encoded data removed]"
    }
   },
   "cell_type": "markdown",
   "metadata": {},
   "source": [
    "Result:\n",
    "![image.png](attachment:image.png)"
   ]
  },
  {
   "cell_type": "code",
   "execution_count": 17,
   "metadata": {},
   "outputs": [],
   "source": [
    "coaches = pd.Series(['Aaron', 'Donald', 'Joshua', 'Peter', 'Scott', 'Stephen'], dtype='string')\n",
    "players = pd.Series(['Asher', 'Connor', 'Elizabeth', 'Emily', 'Ethan', 'Hannah', 'Isabella', 'Isaiah', 'James',\n",
    "                     'Joshua', 'Julian', 'Layla', 'Leo', 'Madison', 'Mia', 'Oliver', 'Ryan', 'Scarlett', 'William',\n",
    "                     'Wyatt'], dtype='string')"
   ]
  },
  {
   "cell_type": "code",
   "execution_count": null,
   "metadata": {},
   "outputs": [],
   "source": []
  },
  {
   "cell_type": "markdown",
   "metadata": {},
   "source": [
    "#### Hobbies Problem\n",
    "You polled five heterosexual couples on their hobbies.\n",
    "For each couple, determine what hobbies each man has that his wife doesn’t and what hobbies each woman has that her husband doesn’t."
   ]
  },
  {
   "cell_type": "code",
   "execution_count": 18,
   "metadata": {},
   "outputs": [],
   "source": [
    "couples = pd.DataFrame({\n",
    "    'man': [\n",
    "        ['fishing', 'biking', 'reading'],\n",
    "        ['hunting', 'mudding', 'fishing'],\n",
    "        ['reading', 'movies', 'running'],\n",
    "        ['running', 'reading', 'biking', 'mudding'],\n",
    "        ['movies', 'reading', 'yodeling']\n",
    "    ],\n",
    "    'woman': [\n",
    "        ['biking', 'reading', 'movies'],\n",
    "        ['fishing', 'drinking'],\n",
    "        ['knitting', 'reading'],\n",
    "        ['running', 'biking', 'fishing', 'movies'],\n",
    "        ['movies']\n",
    "    ]\n",
    "})"
   ]
  },
  {
   "cell_type": "code",
   "execution_count": 19,
   "metadata": {},
   "outputs": [
    {
     "data": {
      "text/html": [
       "<div>\n",
       "<style scoped>\n",
       "    .dataframe tbody tr th:only-of-type {\n",
       "        vertical-align: middle;\n",
       "    }\n",
       "\n",
       "    .dataframe tbody tr th {\n",
       "        vertical-align: top;\n",
       "    }\n",
       "\n",
       "    .dataframe thead th {\n",
       "        text-align: right;\n",
       "    }\n",
       "</style>\n",
       "<table border=\"1\" class=\"dataframe\">\n",
       "  <thead>\n",
       "    <tr style=\"text-align: right;\">\n",
       "      <th></th>\n",
       "      <th>man</th>\n",
       "      <th>woman</th>\n",
       "    </tr>\n",
       "  </thead>\n",
       "  <tbody>\n",
       "    <tr>\n",
       "      <th>0</th>\n",
       "      <td>[fishing, biking, reading]</td>\n",
       "      <td>[biking, reading, movies]</td>\n",
       "    </tr>\n",
       "    <tr>\n",
       "      <th>1</th>\n",
       "      <td>[hunting, mudding, fishing]</td>\n",
       "      <td>[fishing, drinking]</td>\n",
       "    </tr>\n",
       "    <tr>\n",
       "      <th>2</th>\n",
       "      <td>[reading, movies, running]</td>\n",
       "      <td>[knitting, reading]</td>\n",
       "    </tr>\n",
       "    <tr>\n",
       "      <th>3</th>\n",
       "      <td>[running, reading, biking, mudding]</td>\n",
       "      <td>[running, biking, fishing, movies]</td>\n",
       "    </tr>\n",
       "    <tr>\n",
       "      <th>4</th>\n",
       "      <td>[movies, reading, yodeling]</td>\n",
       "      <td>[movies]</td>\n",
       "    </tr>\n",
       "  </tbody>\n",
       "</table>\n",
       "</div>"
      ],
      "text/plain": [
       "                                   man                               woman\n",
       "0           [fishing, biking, reading]           [biking, reading, movies]\n",
       "1          [hunting, mudding, fishing]                 [fishing, drinking]\n",
       "2           [reading, movies, running]                 [knitting, reading]\n",
       "3  [running, reading, biking, mudding]  [running, biking, fishing, movies]\n",
       "4          [movies, reading, yodeling]                            [movies]"
      ]
     },
     "execution_count": 19,
     "metadata": {},
     "output_type": "execute_result"
    }
   ],
   "source": [
    "couples"
   ]
  },
  {
   "cell_type": "code",
   "execution_count": 20,
   "metadata": {},
   "outputs": [],
   "source": [
    "def diff(man: list, woman: list)-> (list, list): \n",
    "    man_only = [h for h in man if h not in woman]\n",
    "    woman_only = [h for h in woman if h not in man]\n",
    "    return man_only, woman_only\n",
    "couples1 = pd.DataFrame()"
   ]
  },
  {
   "cell_type": "code",
   "execution_count": 21,
   "metadata": {},
   "outputs": [
    {
     "data": {
      "text/html": [
       "<div>\n",
       "<style scoped>\n",
       "    .dataframe tbody tr th:only-of-type {\n",
       "        vertical-align: middle;\n",
       "    }\n",
       "\n",
       "    .dataframe tbody tr th {\n",
       "        vertical-align: top;\n",
       "    }\n",
       "\n",
       "    .dataframe thead th {\n",
       "        text-align: right;\n",
       "    }\n",
       "</style>\n",
       "<table border=\"1\" class=\"dataframe\">\n",
       "  <thead>\n",
       "    <tr style=\"text-align: right;\">\n",
       "      <th></th>\n",
       "      <th>man_only</th>\n",
       "      <th>woman_only</th>\n",
       "    </tr>\n",
       "  </thead>\n",
       "  <tbody>\n",
       "    <tr>\n",
       "      <th>0</th>\n",
       "      <td>[fishing]</td>\n",
       "      <td>[movies]</td>\n",
       "    </tr>\n",
       "    <tr>\n",
       "      <th>1</th>\n",
       "      <td>[hunting, mudding]</td>\n",
       "      <td>[drinking]</td>\n",
       "    </tr>\n",
       "    <tr>\n",
       "      <th>2</th>\n",
       "      <td>[movies, running]</td>\n",
       "      <td>[knitting]</td>\n",
       "    </tr>\n",
       "    <tr>\n",
       "      <th>3</th>\n",
       "      <td>[reading, mudding]</td>\n",
       "      <td>[fishing, movies]</td>\n",
       "    </tr>\n",
       "    <tr>\n",
       "      <th>4</th>\n",
       "      <td>[reading, yodeling]</td>\n",
       "      <td>[]</td>\n",
       "    </tr>\n",
       "  </tbody>\n",
       "</table>\n",
       "</div>"
      ],
      "text/plain": [
       "              man_only         woman_only\n",
       "0            [fishing]           [movies]\n",
       "1   [hunting, mudding]         [drinking]\n",
       "2    [movies, running]         [knitting]\n",
       "3   [reading, mudding]  [fishing, movies]\n",
       "4  [reading, yodeling]                 []"
      ]
     },
     "execution_count": 21,
     "metadata": {},
     "output_type": "execute_result"
    }
   ],
   "source": [
    "# Apply the 'diff' function to each row in the DataFrame\n",
    "couples1[['man_only', 'woman_only']] = couples.apply(lambda row: pd.Series(diff(row['man'], row['woman'])), axis=1)\n",
    "couples1"
   ]
  },
  {
   "cell_type": "code",
   "execution_count": 22,
   "metadata": {},
   "outputs": [],
   "source": [
    "# Usage & application of apply map- efficient through usage of set instead of loops\n",
    "\n"
   ]
  },
  {
   "cell_type": "code",
   "execution_count": 23,
   "metadata": {},
   "outputs": [
    {
     "name": "stderr",
     "output_type": "stream",
     "text": [
      "C:\\Users\\986hi\\AppData\\Local\\Temp\\ipykernel_20812\\424699254.py:1: FutureWarning: DataFrame.applymap has been deprecated. Use DataFrame.map instead.\n",
      "  sets_df = couples.applymap(set)\n"
     ]
    },
    {
     "data": {
      "text/html": [
       "<div>\n",
       "<style scoped>\n",
       "    .dataframe tbody tr th:only-of-type {\n",
       "        vertical-align: middle;\n",
       "    }\n",
       "\n",
       "    .dataframe tbody tr th {\n",
       "        vertical-align: top;\n",
       "    }\n",
       "\n",
       "    .dataframe thead th {\n",
       "        text-align: right;\n",
       "    }\n",
       "</style>\n",
       "<table border=\"1\" class=\"dataframe\">\n",
       "  <thead>\n",
       "    <tr style=\"text-align: right;\">\n",
       "      <th></th>\n",
       "      <th>man</th>\n",
       "      <th>woman</th>\n",
       "    </tr>\n",
       "  </thead>\n",
       "  <tbody>\n",
       "    <tr>\n",
       "      <th>0</th>\n",
       "      <td>{biking, fishing, reading}</td>\n",
       "      <td>{biking, movies, reading}</td>\n",
       "    </tr>\n",
       "    <tr>\n",
       "      <th>1</th>\n",
       "      <td>{mudding, fishing, hunting}</td>\n",
       "      <td>{fishing, drinking}</td>\n",
       "    </tr>\n",
       "    <tr>\n",
       "      <th>2</th>\n",
       "      <td>{movies, reading, running}</td>\n",
       "      <td>{reading, knitting}</td>\n",
       "    </tr>\n",
       "    <tr>\n",
       "      <th>3</th>\n",
       "      <td>{biking, mudding, reading, running}</td>\n",
       "      <td>{biking, movies, fishing, running}</td>\n",
       "    </tr>\n",
       "    <tr>\n",
       "      <th>4</th>\n",
       "      <td>{movies, reading, yodeling}</td>\n",
       "      <td>{movies}</td>\n",
       "    </tr>\n",
       "  </tbody>\n",
       "</table>\n",
       "</div>"
      ],
      "text/plain": [
       "                                   man                               woman\n",
       "0           {biking, fishing, reading}           {biking, movies, reading}\n",
       "1          {mudding, fishing, hunting}                 {fishing, drinking}\n",
       "2           {movies, reading, running}                 {reading, knitting}\n",
       "3  {biking, mudding, reading, running}  {biking, movies, fishing, running}\n",
       "4          {movies, reading, yodeling}                            {movies}"
      ]
     },
     "execution_count": 23,
     "metadata": {},
     "output_type": "execute_result"
    }
   ],
   "source": [
    "sets_df = couples.applymap(set)\n",
    "sets_df"
   ]
  },
  {
   "cell_type": "code",
   "execution_count": 24,
   "metadata": {},
   "outputs": [
    {
     "data": {
      "text/html": [
       "<div>\n",
       "<style scoped>\n",
       "    .dataframe tbody tr th:only-of-type {\n",
       "        vertical-align: middle;\n",
       "    }\n",
       "\n",
       "    .dataframe tbody tr th {\n",
       "        vertical-align: top;\n",
       "    }\n",
       "\n",
       "    .dataframe thead th {\n",
       "        text-align: right;\n",
       "    }\n",
       "</style>\n",
       "<table border=\"1\" class=\"dataframe\">\n",
       "  <thead>\n",
       "    <tr style=\"text-align: right;\">\n",
       "      <th></th>\n",
       "      <th>woman</th>\n",
       "    </tr>\n",
       "  </thead>\n",
       "  <tbody>\n",
       "    <tr>\n",
       "      <th>0</th>\n",
       "      <td>{movies}</td>\n",
       "    </tr>\n",
       "    <tr>\n",
       "      <th>1</th>\n",
       "      <td>{drinking}</td>\n",
       "    </tr>\n",
       "    <tr>\n",
       "      <th>2</th>\n",
       "      <td>{knitting}</td>\n",
       "    </tr>\n",
       "    <tr>\n",
       "      <th>3</th>\n",
       "      <td>{movies, fishing}</td>\n",
       "    </tr>\n",
       "    <tr>\n",
       "      <th>4</th>\n",
       "      <td>{}</td>\n",
       "    </tr>\n",
       "  </tbody>\n",
       "</table>\n",
       "</div>"
      ],
      "text/plain": [
       "               woman\n",
       "0           {movies}\n",
       "1         {drinking}\n",
       "2         {knitting}\n",
       "3  {movies, fishing}\n",
       "4                 {}"
      ]
     },
     "execution_count": 24,
     "metadata": {},
     "output_type": "execute_result"
    }
   ],
   "source": [
    "woman_only = sets_df.diff(axis= 1).drop('man', axis=1)\n",
    "woman_only"
   ]
  },
  {
   "cell_type": "code",
   "execution_count": 25,
   "metadata": {},
   "outputs": [
    {
     "data": {
      "text/html": [
       "<div>\n",
       "<style scoped>\n",
       "    .dataframe tbody tr th:only-of-type {\n",
       "        vertical-align: middle;\n",
       "    }\n",
       "\n",
       "    .dataframe tbody tr th {\n",
       "        vertical-align: top;\n",
       "    }\n",
       "\n",
       "    .dataframe thead th {\n",
       "        text-align: right;\n",
       "    }\n",
       "</style>\n",
       "<table border=\"1\" class=\"dataframe\">\n",
       "  <thead>\n",
       "    <tr style=\"text-align: right;\">\n",
       "      <th></th>\n",
       "      <th>man</th>\n",
       "    </tr>\n",
       "  </thead>\n",
       "  <tbody>\n",
       "    <tr>\n",
       "      <th>0</th>\n",
       "      <td>{fishing}</td>\n",
       "    </tr>\n",
       "    <tr>\n",
       "      <th>1</th>\n",
       "      <td>{mudding, hunting}</td>\n",
       "    </tr>\n",
       "    <tr>\n",
       "      <th>2</th>\n",
       "      <td>{movies, running}</td>\n",
       "    </tr>\n",
       "    <tr>\n",
       "      <th>3</th>\n",
       "      <td>{mudding, reading}</td>\n",
       "    </tr>\n",
       "    <tr>\n",
       "      <th>4</th>\n",
       "      <td>{reading, yodeling}</td>\n",
       "    </tr>\n",
       "  </tbody>\n",
       "</table>\n",
       "</div>"
      ],
      "text/plain": [
       "                   man\n",
       "0            {fishing}\n",
       "1   {mudding, hunting}\n",
       "2    {movies, running}\n",
       "3   {mudding, reading}\n",
       "4  {reading, yodeling}"
      ]
     },
     "execution_count": 25,
     "metadata": {},
     "output_type": "execute_result"
    }
   ],
   "source": [
    "man_only = sets_df.diff(axis= 1, periods= -1).drop('woman', axis=1)\n",
    "man_only"
   ]
  },
  {
   "cell_type": "markdown",
   "metadata": {},
   "source": [
    "#### Party Time Problem (To learn creative dicing and usage of cummulative functions)\n",
    "Whenever your friends John and Judy visit you together, y’all have a party 🥳. Given a DataFrame with 10 rows representing the next 10 days of your schedule and whether John and Judy are scheduled to make an appearance, insert a new column called days_til_party that indicates how many days until the next party."
   ]
  },
  {
   "cell_type": "code",
   "execution_count": 26,
   "metadata": {},
   "outputs": [
    {
     "name": "stdout",
     "output_type": "stream",
     "text": [
      "    john   judy\n",
      "0   True   True\n",
      "1  False  False\n",
      "2  False   True\n",
      "3   True  False\n",
      "4  False   True\n",
      "5   True   True\n",
      "6   True  False\n",
      "7   True  False\n",
      "8   True  False\n",
      "9   True  False\n"
     ]
    }
   ],
   "source": [
    "\n",
    "generator = np.random.default_rng(123)\n",
    "df = pd.DataFrame({\n",
    "    'john': generator.choice([True, False], size=10, replace=True),\n",
    "    'judy': generator.choice([True, False], size=10, replace=True)\n",
    "})\n",
    "print(df)"
   ]
  },
  {
   "cell_type": "code",
   "execution_count": 27,
   "metadata": {},
   "outputs": [
    {
     "data": {
      "text/plain": [
       "0     True\n",
       "1    False\n",
       "2    False\n",
       "3    False\n",
       "4    False\n",
       "5     True\n",
       "6    False\n",
       "7    False\n",
       "8    False\n",
       "9    False\n",
       "dtype: bool"
      ]
     },
     "execution_count": 27,
     "metadata": {},
     "output_type": "execute_result"
    }
   ],
   "source": [
    "both_appearing = df.john & df.judy\n",
    "both_appearing"
   ]
  },
  {
   "cell_type": "code",
   "execution_count": 28,
   "metadata": {},
   "outputs": [
    {
     "data": {
      "text/plain": [
       "pandas.core.series.Series"
      ]
     },
     "execution_count": 28,
     "metadata": {},
     "output_type": "execute_result"
    }
   ],
   "source": [
    "type(both_appearing)"
   ]
  },
  {
   "cell_type": "code",
   "execution_count": 29,
   "metadata": {},
   "outputs": [],
   "source": [
    "rev = both_appearing.iloc[::-1]\n",
    "party_count = rev.cumsum() #Calculates groups or party number"
   ]
  },
  {
   "cell_type": "code",
   "execution_count": 30,
   "metadata": {},
   "outputs": [],
   "source": [
    "df['days_till_party'] = both_appearing.groupby(party_count).cumcount(ascending= False) "
   ]
  },
  {
   "cell_type": "code",
   "execution_count": 31,
   "metadata": {},
   "outputs": [
    {
     "data": {
      "text/html": [
       "<div>\n",
       "<style scoped>\n",
       "    .dataframe tbody tr th:only-of-type {\n",
       "        vertical-align: middle;\n",
       "    }\n",
       "\n",
       "    .dataframe tbody tr th {\n",
       "        vertical-align: top;\n",
       "    }\n",
       "\n",
       "    .dataframe thead th {\n",
       "        text-align: right;\n",
       "    }\n",
       "</style>\n",
       "<table border=\"1\" class=\"dataframe\">\n",
       "  <thead>\n",
       "    <tr style=\"text-align: right;\">\n",
       "      <th></th>\n",
       "      <th>john</th>\n",
       "      <th>judy</th>\n",
       "      <th>days_till_party</th>\n",
       "    </tr>\n",
       "  </thead>\n",
       "  <tbody>\n",
       "    <tr>\n",
       "      <th>0</th>\n",
       "      <td>True</td>\n",
       "      <td>True</td>\n",
       "      <td>0</td>\n",
       "    </tr>\n",
       "    <tr>\n",
       "      <th>1</th>\n",
       "      <td>False</td>\n",
       "      <td>False</td>\n",
       "      <td>4</td>\n",
       "    </tr>\n",
       "    <tr>\n",
       "      <th>2</th>\n",
       "      <td>False</td>\n",
       "      <td>True</td>\n",
       "      <td>3</td>\n",
       "    </tr>\n",
       "    <tr>\n",
       "      <th>3</th>\n",
       "      <td>True</td>\n",
       "      <td>False</td>\n",
       "      <td>2</td>\n",
       "    </tr>\n",
       "    <tr>\n",
       "      <th>4</th>\n",
       "      <td>False</td>\n",
       "      <td>True</td>\n",
       "      <td>1</td>\n",
       "    </tr>\n",
       "    <tr>\n",
       "      <th>5</th>\n",
       "      <td>True</td>\n",
       "      <td>True</td>\n",
       "      <td>0</td>\n",
       "    </tr>\n",
       "    <tr>\n",
       "      <th>6</th>\n",
       "      <td>True</td>\n",
       "      <td>False</td>\n",
       "      <td>3</td>\n",
       "    </tr>\n",
       "    <tr>\n",
       "      <th>7</th>\n",
       "      <td>True</td>\n",
       "      <td>False</td>\n",
       "      <td>2</td>\n",
       "    </tr>\n",
       "    <tr>\n",
       "      <th>8</th>\n",
       "      <td>True</td>\n",
       "      <td>False</td>\n",
       "      <td>1</td>\n",
       "    </tr>\n",
       "    <tr>\n",
       "      <th>9</th>\n",
       "      <td>True</td>\n",
       "      <td>False</td>\n",
       "      <td>0</td>\n",
       "    </tr>\n",
       "  </tbody>\n",
       "</table>\n",
       "</div>"
      ],
      "text/plain": [
       "    john   judy  days_till_party\n",
       "0   True   True                0\n",
       "1  False  False                4\n",
       "2  False   True                3\n",
       "3   True  False                2\n",
       "4  False   True                1\n",
       "5   True   True                0\n",
       "6   True  False                3\n",
       "7   True  False                2\n",
       "8   True  False                1\n",
       "9   True  False                0"
      ]
     },
     "execution_count": 31,
     "metadata": {},
     "output_type": "execute_result"
    }
   ],
   "source": [
    "df"
   ]
  },
  {
   "cell_type": "code",
   "execution_count": 32,
   "metadata": {},
   "outputs": [
    {
     "data": {
      "text/html": [
       "<div>\n",
       "<style scoped>\n",
       "    .dataframe tbody tr th:only-of-type {\n",
       "        vertical-align: middle;\n",
       "    }\n",
       "\n",
       "    .dataframe tbody tr th {\n",
       "        vertical-align: top;\n",
       "    }\n",
       "\n",
       "    .dataframe thead th {\n",
       "        text-align: right;\n",
       "    }\n",
       "</style>\n",
       "<table border=\"1\" class=\"dataframe\">\n",
       "  <thead>\n",
       "    <tr style=\"text-align: right;\">\n",
       "      <th></th>\n",
       "      <th>john</th>\n",
       "      <th>judy</th>\n",
       "      <th>days_till_party</th>\n",
       "    </tr>\n",
       "  </thead>\n",
       "  <tbody>\n",
       "    <tr>\n",
       "      <th>0</th>\n",
       "      <td>True</td>\n",
       "      <td>True</td>\n",
       "      <td>0.0</td>\n",
       "    </tr>\n",
       "    <tr>\n",
       "      <th>1</th>\n",
       "      <td>False</td>\n",
       "      <td>False</td>\n",
       "      <td>4.0</td>\n",
       "    </tr>\n",
       "    <tr>\n",
       "      <th>2</th>\n",
       "      <td>False</td>\n",
       "      <td>True</td>\n",
       "      <td>3.0</td>\n",
       "    </tr>\n",
       "    <tr>\n",
       "      <th>3</th>\n",
       "      <td>True</td>\n",
       "      <td>False</td>\n",
       "      <td>2.0</td>\n",
       "    </tr>\n",
       "    <tr>\n",
       "      <th>4</th>\n",
       "      <td>False</td>\n",
       "      <td>True</td>\n",
       "      <td>1.0</td>\n",
       "    </tr>\n",
       "    <tr>\n",
       "      <th>5</th>\n",
       "      <td>True</td>\n",
       "      <td>True</td>\n",
       "      <td>0.0</td>\n",
       "    </tr>\n",
       "    <tr>\n",
       "      <th>6</th>\n",
       "      <td>True</td>\n",
       "      <td>False</td>\n",
       "      <td>NaN</td>\n",
       "    </tr>\n",
       "    <tr>\n",
       "      <th>7</th>\n",
       "      <td>True</td>\n",
       "      <td>False</td>\n",
       "      <td>NaN</td>\n",
       "    </tr>\n",
       "    <tr>\n",
       "      <th>8</th>\n",
       "      <td>True</td>\n",
       "      <td>False</td>\n",
       "      <td>NaN</td>\n",
       "    </tr>\n",
       "    <tr>\n",
       "      <th>9</th>\n",
       "      <td>True</td>\n",
       "      <td>False</td>\n",
       "      <td>NaN</td>\n",
       "    </tr>\n",
       "  </tbody>\n",
       "</table>\n",
       "</div>"
      ],
      "text/plain": [
       "    john   judy  days_till_party\n",
       "0   True   True              0.0\n",
       "1  False  False              4.0\n",
       "2  False   True              3.0\n",
       "3   True  False              2.0\n",
       "4  False   True              1.0\n",
       "5   True   True              0.0\n",
       "6   True  False              NaN\n",
       "7   True  False              NaN\n",
       "8   True  False              NaN\n",
       "9   True  False              NaN"
      ]
     },
     "execution_count": 32,
     "metadata": {},
     "output_type": "execute_result"
    }
   ],
   "source": [
    "# Correcting days count after last party\n",
    "\n",
    "df.loc[ (both_appearing.loc[both_appearing].index[-1]+1):, 'days_till_party'] = pd.NA\n",
    "df"
   ]
  },
  {
   "cell_type": "markdown",
   "metadata": {},
   "source": [
    "#### Cradle Robbers Problem\n",
    "Given a DataFrame of married couples and a separate DataFrame with each person’s age, identify “cradle robbers”, people:\n",
    "\n",
    "who are at least 20 years older than their spouse and\n",
    "whose spouse is under the age of 30"
   ]
  },
  {
   "cell_type": "code",
   "execution_count": 33,
   "metadata": {},
   "outputs": [
    {
     "name": "stdout",
     "output_type": "stream",
     "text": [
      "   person1  person2\n",
      "0     Cody    Sarah\n",
      "1   Dustin    Amber\n",
      "2    Peter  Brianna\n",
      "3     Adam  Caitlin\n",
      "4     Ryan   Rachel\n",
      "5    Brian  Kristen\n",
      "6   Jordan   Alyssa\n",
      "7  Gregory   Morgan\n"
     ]
    }
   ],
   "source": [
    "couples = pd.DataFrame({\n",
    "    'person1': ['Cody', 'Dustin', 'Peter', 'Adam', 'Ryan', 'Brian', 'Jordan', 'Gregory'],\n",
    "    'person2': ['Sarah', 'Amber', 'Brianna', 'Caitlin', 'Rachel', 'Kristen', 'Alyssa', 'Morgan']\n",
    "}).convert_dtypes()\n",
    "\n",
    "ages = pd.DataFrame({\n",
    "    'person': ['Adam', 'Alyssa', 'Amber', 'Brian', 'Brianna', 'Caitlin', 'Cody', 'Dustin', 'Gregory', 'Jordan',\n",
    "               'Kristen', 'Rachel', 'Morgan', 'Peter', 'Ryan', 'Sarah'],\n",
    "    'age': [62, 40, 41, 50, 65, 29, 27, 39, 42, 39, 33, 61, 43, 55, 28, 36]\n",
    "}).convert_dtypes()\n",
    "\n",
    "print(couples)"
   ]
  },
  {
   "cell_type": "markdown",
   "metadata": {},
   "source": [
    "#### Potholes Problem (To learn)\n",
    "Fed up with your city’s roads, you go around collecting data on potholes in your area. Due to an unfortunate ☕ coffee spill, you lost bits and pieces of your data."
   ]
  },
  {
   "cell_type": "code",
   "execution_count": 34,
   "metadata": {},
   "outputs": [
    {
     "name": "stdout",
     "output_type": "stream",
     "text": [
      "   length  width  depth    location\n",
      "0     5.1    2.8    2.6      center\n",
      "1     NaN    5.8    NaN  north edge\n",
      "2     6.2    6.5    4.2        <NA>\n",
      "3     4.3    6.1    0.8      center\n",
      "4     6.0    5.8    2.6  north edge\n",
      "5     5.1    NaN    NaN      center\n",
      "6     6.5    6.3    3.9   west edge\n",
      "7     4.3    6.1    4.8   west edge\n",
      "8     NaN    5.4    4.0        <NA>\n",
      "9     NaN    5.0    NaN        <NA>\n"
     ]
    }
   ],
   "source": [
    "potholes = pd.DataFrame({\n",
    "    'length':[5.1, np.nan, 6.2, 4.3, 6.0, 5.1, 6.5, 4.3, np.nan, np.nan],\n",
    "    'width':[2.8, 5.8, 6.5, 6.1, 5.8, np.nan, 6.3, 6.1, 5.4, 5.0],\n",
    "    'depth':[2.6, np.nan, 4.2, 0.8, 2.6, np.nan, 3.9, 4.8, 4.0, np.nan],\n",
    "    'location':pd.Series(['center', 'north edge', np.nan, 'center', 'north edge', 'center', 'west edge',\n",
    "                          'west edge', np.nan, np.nan], dtype='string')\n",
    "})\n",
    "\n",
    "print(potholes)"
   ]
  },
  {
   "cell_type": "code",
   "execution_count": 35,
   "metadata": {},
   "outputs": [],
   "source": [
    "potholes.dropna(thresh= 2,inplace= True)"
   ]
  },
  {
   "cell_type": "code",
   "execution_count": 36,
   "metadata": {},
   "outputs": [],
   "source": [
    "pt = potholes.drop('location', axis= 1)"
   ]
  },
  {
   "cell_type": "code",
   "execution_count": 37,
   "metadata": {},
   "outputs": [
    {
     "data": {
      "text/html": [
       "<div>\n",
       "<style scoped>\n",
       "    .dataframe tbody tr th:only-of-type {\n",
       "        vertical-align: middle;\n",
       "    }\n",
       "\n",
       "    .dataframe tbody tr th {\n",
       "        vertical-align: top;\n",
       "    }\n",
       "\n",
       "    .dataframe thead th {\n",
       "        text-align: right;\n",
       "    }\n",
       "</style>\n",
       "<table border=\"1\" class=\"dataframe\">\n",
       "  <thead>\n",
       "    <tr style=\"text-align: right;\">\n",
       "      <th></th>\n",
       "      <th>length</th>\n",
       "      <th>width</th>\n",
       "      <th>depth</th>\n",
       "      <th>location</th>\n",
       "    </tr>\n",
       "  </thead>\n",
       "  <tbody>\n",
       "    <tr>\n",
       "      <th>0</th>\n",
       "      <td>5.100000</td>\n",
       "      <td>2.8</td>\n",
       "      <td>2.600000</td>\n",
       "      <td>center</td>\n",
       "    </tr>\n",
       "    <tr>\n",
       "      <th>1</th>\n",
       "      <td>5.357143</td>\n",
       "      <td>5.8</td>\n",
       "      <td>3.271429</td>\n",
       "      <td>north edge</td>\n",
       "    </tr>\n",
       "    <tr>\n",
       "      <th>2</th>\n",
       "      <td>6.200000</td>\n",
       "      <td>6.5</td>\n",
       "      <td>4.200000</td>\n",
       "      <td>&lt;NA&gt;</td>\n",
       "    </tr>\n",
       "    <tr>\n",
       "      <th>3</th>\n",
       "      <td>4.300000</td>\n",
       "      <td>6.1</td>\n",
       "      <td>0.800000</td>\n",
       "      <td>center</td>\n",
       "    </tr>\n",
       "    <tr>\n",
       "      <th>4</th>\n",
       "      <td>6.000000</td>\n",
       "      <td>5.8</td>\n",
       "      <td>2.600000</td>\n",
       "      <td>north edge</td>\n",
       "    </tr>\n",
       "    <tr>\n",
       "      <th>5</th>\n",
       "      <td>5.100000</td>\n",
       "      <td>5.6</td>\n",
       "      <td>3.271429</td>\n",
       "      <td>center</td>\n",
       "    </tr>\n",
       "    <tr>\n",
       "      <th>6</th>\n",
       "      <td>6.500000</td>\n",
       "      <td>6.3</td>\n",
       "      <td>3.900000</td>\n",
       "      <td>west edge</td>\n",
       "    </tr>\n",
       "    <tr>\n",
       "      <th>7</th>\n",
       "      <td>4.300000</td>\n",
       "      <td>6.1</td>\n",
       "      <td>4.800000</td>\n",
       "      <td>west edge</td>\n",
       "    </tr>\n",
       "    <tr>\n",
       "      <th>8</th>\n",
       "      <td>5.357143</td>\n",
       "      <td>5.4</td>\n",
       "      <td>4.000000</td>\n",
       "      <td>&lt;NA&gt;</td>\n",
       "    </tr>\n",
       "  </tbody>\n",
       "</table>\n",
       "</div>"
      ],
      "text/plain": [
       "     length  width     depth    location\n",
       "0  5.100000    2.8  2.600000      center\n",
       "1  5.357143    5.8  3.271429  north edge\n",
       "2  6.200000    6.5  4.200000        <NA>\n",
       "3  4.300000    6.1  0.800000      center\n",
       "4  6.000000    5.8  2.600000  north edge\n",
       "5  5.100000    5.6  3.271429      center\n",
       "6  6.500000    6.3  3.900000   west edge\n",
       "7  4.300000    6.1  4.800000   west edge\n",
       "8  5.357143    5.4  4.000000        <NA>"
      ]
     },
     "execution_count": 37,
     "metadata": {},
     "output_type": "execute_result"
    }
   ],
   "source": [
    "potholes.fillna(potholes.select_dtypes(include='number').mean(), inplace=True)\n",
    "potholes"
   ]
  },
  {
   "cell_type": "markdown",
   "metadata": {},
   "source": [
    "#### Class Transitions Problem (Usage of transform & learn using function application by passing onto operation)\n",
    "You have a DataFrame called schedules that represents the daily schedule of each student in a school. For example, If Ryan attends four classes - math, english, history, and chemistry, your schedules DataFrame will have four rows for Ryan in the order he attends each class.\n",
    "\n",
    "You have this theory that the sequence of class-to-class transitions affects students' grades. For instance, you suspect Ryan would do better in his Chemistry class if it immediately followed his Math class instead of his History class.\n",
    "\n",
    "Determine the average and median Chemistry grade for groups of students based on the class they have immediately prior to Chemistry. Also report how many students fall into each group."
   ]
  },
  {
   "cell_type": "markdown",
   "metadata": {},
   "source": [
    "Transform vs aggregate is analogous to window function and group by in sql"
   ]
  },
  {
   "cell_type": "code",
   "execution_count": 38,
   "metadata": {},
   "outputs": [
    {
     "name": "stdout",
     "output_type": "stream",
     "text": [
      "     student_id        class  grade\n",
      "0             0  engineering     86\n",
      "3             0    chemistry     75\n",
      "4             1         math     85\n",
      "5             1  engineering      0\n",
      "6             1      english     73\n",
      "..          ...          ...    ...\n",
      "394          98      writing     16\n",
      "395          98       civics     89\n",
      "396          99  engineering     90\n",
      "398          99         math     55\n",
      "399          99      history     31\n",
      "\n",
      "[339 rows x 3 columns]\n"
     ]
    }
   ],
   "source": [
    "generator = np.random.default_rng(seed=1234)\n",
    "classes = ['english', 'math', 'history', 'chemistry', 'gym', 'civics', 'writing', 'engineering']\n",
    "\n",
    "schedules = pd.DataFrame({\n",
    "    'student_id':np.repeat(np.arange(100), 4),\n",
    "    'class':generator.choice(classes, size=400, replace=True)\n",
    "}).drop_duplicates()\n",
    "schedules['grade'] = generator.integers(101, size=schedules.shape[0])\n",
    "\n",
    "print(schedules)"
   ]
  },
  {
   "cell_type": "code",
   "execution_count": 39,
   "metadata": {},
   "outputs": [
    {
     "data": {
      "text/html": [
       "<div>\n",
       "<style scoped>\n",
       "    .dataframe tbody tr th:only-of-type {\n",
       "        vertical-align: middle;\n",
       "    }\n",
       "\n",
       "    .dataframe tbody tr th {\n",
       "        vertical-align: top;\n",
       "    }\n",
       "\n",
       "    .dataframe thead th {\n",
       "        text-align: right;\n",
       "    }\n",
       "</style>\n",
       "<table border=\"1\" class=\"dataframe\">\n",
       "  <thead>\n",
       "    <tr style=\"text-align: right;\">\n",
       "      <th></th>\n",
       "      <th>class</th>\n",
       "      <th>grade</th>\n",
       "    </tr>\n",
       "  </thead>\n",
       "  <tbody>\n",
       "    <tr>\n",
       "      <th>0</th>\n",
       "      <td>NaN</td>\n",
       "      <td>NaN</td>\n",
       "    </tr>\n",
       "    <tr>\n",
       "      <th>3</th>\n",
       "      <td>engineering</td>\n",
       "      <td>86.0</td>\n",
       "    </tr>\n",
       "    <tr>\n",
       "      <th>4</th>\n",
       "      <td>NaN</td>\n",
       "      <td>NaN</td>\n",
       "    </tr>\n",
       "    <tr>\n",
       "      <th>5</th>\n",
       "      <td>math</td>\n",
       "      <td>85.0</td>\n",
       "    </tr>\n",
       "    <tr>\n",
       "      <th>6</th>\n",
       "      <td>engineering</td>\n",
       "      <td>0.0</td>\n",
       "    </tr>\n",
       "    <tr>\n",
       "      <th>...</th>\n",
       "      <td>...</td>\n",
       "      <td>...</td>\n",
       "    </tr>\n",
       "    <tr>\n",
       "      <th>394</th>\n",
       "      <td>math</td>\n",
       "      <td>59.0</td>\n",
       "    </tr>\n",
       "    <tr>\n",
       "      <th>395</th>\n",
       "      <td>writing</td>\n",
       "      <td>16.0</td>\n",
       "    </tr>\n",
       "    <tr>\n",
       "      <th>396</th>\n",
       "      <td>NaN</td>\n",
       "      <td>NaN</td>\n",
       "    </tr>\n",
       "    <tr>\n",
       "      <th>398</th>\n",
       "      <td>engineering</td>\n",
       "      <td>90.0</td>\n",
       "    </tr>\n",
       "    <tr>\n",
       "      <th>399</th>\n",
       "      <td>math</td>\n",
       "      <td>55.0</td>\n",
       "    </tr>\n",
       "  </tbody>\n",
       "</table>\n",
       "<p>339 rows × 2 columns</p>\n",
       "</div>"
      ],
      "text/plain": [
       "           class  grade\n",
       "0            NaN    NaN\n",
       "3    engineering   86.0\n",
       "4            NaN    NaN\n",
       "5           math   85.0\n",
       "6    engineering    0.0\n",
       "..           ...    ...\n",
       "394         math   59.0\n",
       "395      writing   16.0\n",
       "396          NaN    NaN\n",
       "398  engineering   90.0\n",
       "399         math   55.0\n",
       "\n",
       "[339 rows x 2 columns]"
      ]
     },
     "execution_count": 39,
     "metadata": {},
     "output_type": "execute_result"
    }
   ],
   "source": [
    "df = schedules.groupby(by = 'student_id').shift(periods= 1)\n",
    "df"
   ]
  },
  {
   "cell_type": "markdown",
   "metadata": {},
   "source": [
    "#### Rose Thorn Problem (must do)\n",
    "You developed a multiplayer indie game called 🌹 Rose Thorn. Players compete in one of two venues - the ocean or the desert. You track the outcome of five games between three players in a DataFrame called games.\n",
    "\n",
    "Now you want to analyze the data. Convert the games DataFrame into a new DataFrame that identifies how many times each (player, placement) occurs per venue, specifically with venue as the row index and (player, placed) as the column MultiIndex.\n",
    "\n"
   ]
  },
  {
   "cell_type": "markdown",
   "metadata": {},
   "source": []
  },
  {
   "cell_type": "code",
   "execution_count": 40,
   "metadata": {},
   "outputs": [
    {
     "name": "stdout",
     "output_type": "stream",
     "text": [
      "  bella1 billybob nosoup4u   venue\n",
      "0    2nd      1st      3rd  desert\n",
      "1    3rd      2nd      1st   ocean\n",
      "2    1st      2nd      3rd  desert\n",
      "3    2nd      1st      3rd   ocean\n",
      "4    3rd      2nd      3rd  desert\n"
     ]
    }
   ],
   "source": [
    "games = pd.DataFrame({\n",
    "    'bella1':   ['2nd', '3rd', '1st', '2nd', '3rd'],\n",
    "    'billybob': ['1st', '2nd', '2nd', '1st', '2nd'],\n",
    "    'nosoup4u': ['3rd', '1st', '3rd', '3rd', '3rd'],\n",
    "    'venue': ['desert', 'ocean', 'desert', 'ocean', 'desert']\n",
    "})\n",
    "\n",
    "print(games)"
   ]
  },
  {
   "cell_type": "code",
   "execution_count": 44,
   "metadata": {},
   "outputs": [
    {
     "data": {
      "text/html": [
       "<div>\n",
       "<style scoped>\n",
       "    .dataframe tbody tr th:only-of-type {\n",
       "        vertical-align: middle;\n",
       "    }\n",
       "\n",
       "    .dataframe tbody tr th {\n",
       "        vertical-align: top;\n",
       "    }\n",
       "\n",
       "    .dataframe thead th {\n",
       "        text-align: right;\n",
       "    }\n",
       "</style>\n",
       "<table border=\"1\" class=\"dataframe\">\n",
       "  <thead>\n",
       "    <tr style=\"text-align: right;\">\n",
       "      <th></th>\n",
       "      <th>venue</th>\n",
       "      <th>player</th>\n",
       "      <th>placed</th>\n",
       "    </tr>\n",
       "  </thead>\n",
       "  <tbody>\n",
       "    <tr>\n",
       "      <th>0</th>\n",
       "      <td>desert</td>\n",
       "      <td>bella1</td>\n",
       "      <td>2nd</td>\n",
       "    </tr>\n",
       "    <tr>\n",
       "      <th>1</th>\n",
       "      <td>ocean</td>\n",
       "      <td>bella1</td>\n",
       "      <td>3rd</td>\n",
       "    </tr>\n",
       "    <tr>\n",
       "      <th>2</th>\n",
       "      <td>desert</td>\n",
       "      <td>bella1</td>\n",
       "      <td>1st</td>\n",
       "    </tr>\n",
       "    <tr>\n",
       "      <th>3</th>\n",
       "      <td>ocean</td>\n",
       "      <td>bella1</td>\n",
       "      <td>2nd</td>\n",
       "    </tr>\n",
       "    <tr>\n",
       "      <th>4</th>\n",
       "      <td>desert</td>\n",
       "      <td>bella1</td>\n",
       "      <td>3rd</td>\n",
       "    </tr>\n",
       "    <tr>\n",
       "      <th>5</th>\n",
       "      <td>desert</td>\n",
       "      <td>billybob</td>\n",
       "      <td>1st</td>\n",
       "    </tr>\n",
       "    <tr>\n",
       "      <th>6</th>\n",
       "      <td>ocean</td>\n",
       "      <td>billybob</td>\n",
       "      <td>2nd</td>\n",
       "    </tr>\n",
       "    <tr>\n",
       "      <th>7</th>\n",
       "      <td>desert</td>\n",
       "      <td>billybob</td>\n",
       "      <td>2nd</td>\n",
       "    </tr>\n",
       "    <tr>\n",
       "      <th>8</th>\n",
       "      <td>ocean</td>\n",
       "      <td>billybob</td>\n",
       "      <td>1st</td>\n",
       "    </tr>\n",
       "    <tr>\n",
       "      <th>9</th>\n",
       "      <td>desert</td>\n",
       "      <td>billybob</td>\n",
       "      <td>2nd</td>\n",
       "    </tr>\n",
       "    <tr>\n",
       "      <th>10</th>\n",
       "      <td>desert</td>\n",
       "      <td>nosoup4u</td>\n",
       "      <td>3rd</td>\n",
       "    </tr>\n",
       "    <tr>\n",
       "      <th>11</th>\n",
       "      <td>ocean</td>\n",
       "      <td>nosoup4u</td>\n",
       "      <td>1st</td>\n",
       "    </tr>\n",
       "    <tr>\n",
       "      <th>12</th>\n",
       "      <td>desert</td>\n",
       "      <td>nosoup4u</td>\n",
       "      <td>3rd</td>\n",
       "    </tr>\n",
       "    <tr>\n",
       "      <th>13</th>\n",
       "      <td>ocean</td>\n",
       "      <td>nosoup4u</td>\n",
       "      <td>3rd</td>\n",
       "    </tr>\n",
       "    <tr>\n",
       "      <th>14</th>\n",
       "      <td>desert</td>\n",
       "      <td>nosoup4u</td>\n",
       "      <td>3rd</td>\n",
       "    </tr>\n",
       "  </tbody>\n",
       "</table>\n",
       "</div>"
      ],
      "text/plain": [
       "     venue    player placed\n",
       "0   desert    bella1    2nd\n",
       "1    ocean    bella1    3rd\n",
       "2   desert    bella1    1st\n",
       "3    ocean    bella1    2nd\n",
       "4   desert    bella1    3rd\n",
       "5   desert  billybob    1st\n",
       "6    ocean  billybob    2nd\n",
       "7   desert  billybob    2nd\n",
       "8    ocean  billybob    1st\n",
       "9   desert  billybob    2nd\n",
       "10  desert  nosoup4u    3rd\n",
       "11   ocean  nosoup4u    1st\n",
       "12  desert  nosoup4u    3rd\n",
       "13   ocean  nosoup4u    3rd\n",
       "14  desert  nosoup4u    3rd"
      ]
     },
     "execution_count": 44,
     "metadata": {},
     "output_type": "execute_result"
    }
   ],
   "source": [
    "step1 = games.melt(id_vars= 'venue', var_name= 'player', value_name= 'placed')\n",
    "step1"
   ]
  },
  {
   "cell_type": "code",
   "execution_count": 49,
   "metadata": {},
   "outputs": [],
   "source": [
    "# Converting columns to categorical dtype to include even non-existent cases\n",
    "step1['placed'] = pd.Categorical(step1.placed)\n",
    "step1['venue'] = pd.Categorical(step1.venue)\n",
    "step1['player'] = pd.Categorical(step1.player)"
   ]
  },
  {
   "cell_type": "code",
   "execution_count": 50,
   "metadata": {},
   "outputs": [
    {
     "name": "stdout",
     "output_type": "stream",
     "text": [
      "     venue    player placed\n",
      "0   desert    bella1    2nd\n",
      "1    ocean    bella1    3rd\n",
      "2   desert    bella1    1st\n",
      "3    ocean    bella1    2nd\n",
      "4   desert    bella1    3rd\n",
      "5   desert  billybob    1st\n",
      "6    ocean  billybob    2nd\n",
      "7   desert  billybob    2nd\n",
      "8    ocean  billybob    1st\n",
      "9   desert  billybob    2nd\n",
      "10  desert  nosoup4u    3rd\n",
      "11   ocean  nosoup4u    1st\n",
      "12  desert  nosoup4u    3rd\n",
      "13   ocean  nosoup4u    3rd\n",
      "14  desert  nosoup4u    3rd\n"
     ]
    }
   ],
   "source": [
    "print(step1)"
   ]
  },
  {
   "cell_type": "code",
   "execution_count": 51,
   "metadata": {},
   "outputs": [
    {
     "name": "stdout",
     "output_type": "stream",
     "text": [
      "venue   player    placed\n",
      "desert  bella1    1st       1\n",
      "                  2nd       1\n",
      "                  3rd       1\n",
      "        billybob  1st       1\n",
      "                  2nd       2\n",
      "                  3rd       0\n",
      "        nosoup4u  1st       0\n",
      "                  2nd       0\n",
      "                  3rd       3\n",
      "ocean   bella1    1st       0\n",
      "                  2nd       1\n",
      "                  3rd       1\n",
      "        billybob  1st       1\n",
      "                  2nd       1\n",
      "                  3rd       0\n",
      "        nosoup4u  1st       1\n",
      "                  2nd       0\n",
      "                  3rd       1\n",
      "dtype: int64\n"
     ]
    },
    {
     "name": "stderr",
     "output_type": "stream",
     "text": [
      "C:\\Users\\986hi\\AppData\\Local\\Temp\\ipykernel_20812\\2457384199.py:1: FutureWarning: The default of observed=False is deprecated and will be changed to True in a future version of pandas. Pass observed=False to retain current behavior or observed=True to adopt the future default and silence this warning.\n",
      "  step2 = step1.groupby(by = ['venue', 'player', 'placed']).size()\n"
     ]
    }
   ],
   "source": [
    "step2 = step1.groupby(by = ['venue', 'player', 'placed']).size()\n",
    "print(step2)"
   ]
  },
  {
   "cell_type": "code",
   "execution_count": 53,
   "metadata": {},
   "outputs": [
    {
     "name": "stdout",
     "output_type": "stream",
     "text": [
      "player bella1         billybob         nosoup4u        \n",
      "placed    1st 2nd 3rd      1st 2nd 3rd      1st 2nd 3rd\n",
      "venue                                                  \n",
      "desert      1   1   1        1   2   0        0   0   3\n",
      "ocean       0   1   1        1   1   0        1   0   1\n"
     ]
    }
   ],
   "source": [
    "step3 = step2.unstack(level= ['player', 'placed'])\n",
    "print(step3)"
   ]
  },
  {
   "cell_type": "markdown",
   "metadata": {},
   "source": [
    "#### Product Volumes Problem (To do)\n",
    "Given a Series of product descriptions like “birch table measures 3’x6’x2'”, estimate the volume of each product. (Note: 3' means 3 \"feet\" in the imperial system of units.)"
   ]
  },
  {
   "cell_type": "code",
   "execution_count": 54,
   "metadata": {},
   "outputs": [],
   "source": [
    "descriptions = pd.Series([\n",
    "    \"soft and fuzzy teddy bear, product dims: 1'x2'x1', shipping not included\",\n",
    "    \"birch table measures 3'x6'x2'\",\n",
    "    \"tortilla blanket ~ sleep like a fajita ~ 6'x8'x1'\",\n",
    "    \"inflatable arm tube man | 12'x1'x1' when inflated\",\n",
    "    \"dinosaur costume -- 6'x4'x2' -- for kids and small adults\"\n",
    "], dtype='string')"
   ]
  },
  {
   "cell_type": "markdown",
   "metadata": {},
   "source": [
    "#### Session Groups Problem (date-time functions)\n",
    "You run an ecommerce site called shoesfordogs.com . You want to analyze your visitors, so you compile a DataFrame called hits that represents each time a visitor hit some page on your site.\n",
    "\n",
    "You suspect that the undocumented third-party tracking system on your website is buggy and sometimes splits one session into two or more session_ids. You want to correct this behavior by creating a field called session_group_id that stitches broken session_ids together.\n",
    "\n",
    "Two session, A & B, should belong to the same session group if\n",
    "\n",
    "They have the same visitor_id and\n",
    "Their hits overlap in time or\n",
    "The latest hit from A is within five minutes of the earliest hit from B, or vice-versa\n",
    "Associativity applies. So, if A is grouped with B, and B is grouped with C, then A should be grouped with C as well.\n",
    "\n",
    "Create a column in hits called session_group_id that identifies which hits belong to the same session group."
   ]
  },
  {
   "cell_type": "code",
   "execution_count": 55,
   "metadata": {},
   "outputs": [],
   "source": [
    "generator = np.random.default_rng(90)\n",
    "products = ['iev','pys','vae','dah','yck','axl','apx','evu','wqv','tfg','aur','rgy','kef','lzj','kiz','oma']\n",
    "hits = pd.DataFrame({\n",
    "    'visitor_id':generator.choice(5, size=20, replace=True) + 1,\n",
    "    'session_id':generator.choice(4, size=20, replace=True),\n",
    "    'date_time':pd.to_datetime('2020-01-01') + pd.to_timedelta(generator.choice(60, size=20), unit='m'),\n",
    "    'page_url':[f'shoesfordogs.com/product/{x}' for x in generator.choice(products, size=20, replace=True)]\n",
    "})\n",
    "hits['session_id'] = hits.visitor_id * 100 + hits.session_id"
   ]
  },
  {
   "cell_type": "code",
   "execution_count": 57,
   "metadata": {},
   "outputs": [
    {
     "data": {
      "text/html": [
       "<div>\n",
       "<style scoped>\n",
       "    .dataframe tbody tr th:only-of-type {\n",
       "        vertical-align: middle;\n",
       "    }\n",
       "\n",
       "    .dataframe tbody tr th {\n",
       "        vertical-align: top;\n",
       "    }\n",
       "\n",
       "    .dataframe thead th {\n",
       "        text-align: right;\n",
       "    }\n",
       "</style>\n",
       "<table border=\"1\" class=\"dataframe\">\n",
       "  <thead>\n",
       "    <tr style=\"text-align: right;\">\n",
       "      <th></th>\n",
       "      <th>visitor_id</th>\n",
       "      <th>session_id</th>\n",
       "      <th>date_time</th>\n",
       "      <th>page_url</th>\n",
       "    </tr>\n",
       "  </thead>\n",
       "  <tbody>\n",
       "    <tr>\n",
       "      <th>0</th>\n",
       "      <td>4</td>\n",
       "      <td>400</td>\n",
       "      <td>2020-01-01 00:05:00</td>\n",
       "      <td>shoesfordogs.com/product/pys</td>\n",
       "    </tr>\n",
       "    <tr>\n",
       "      <th>1</th>\n",
       "      <td>2</td>\n",
       "      <td>200</td>\n",
       "      <td>2020-01-01 00:18:00</td>\n",
       "      <td>shoesfordogs.com/product/oma</td>\n",
       "    </tr>\n",
       "    <tr>\n",
       "      <th>2</th>\n",
       "      <td>1</td>\n",
       "      <td>102</td>\n",
       "      <td>2020-01-01 00:48:00</td>\n",
       "      <td>shoesfordogs.com/product/evu</td>\n",
       "    </tr>\n",
       "    <tr>\n",
       "      <th>3</th>\n",
       "      <td>4</td>\n",
       "      <td>403</td>\n",
       "      <td>2020-01-01 00:21:00</td>\n",
       "      <td>shoesfordogs.com/product/oma</td>\n",
       "    </tr>\n",
       "    <tr>\n",
       "      <th>4</th>\n",
       "      <td>2</td>\n",
       "      <td>201</td>\n",
       "      <td>2020-01-01 00:40:00</td>\n",
       "      <td>shoesfordogs.com/product/yck</td>\n",
       "    </tr>\n",
       "  </tbody>\n",
       "</table>\n",
       "</div>"
      ],
      "text/plain": [
       "   visitor_id  session_id           date_time                      page_url\n",
       "0           4         400 2020-01-01 00:05:00  shoesfordogs.com/product/pys\n",
       "1           2         200 2020-01-01 00:18:00  shoesfordogs.com/product/oma\n",
       "2           1         102 2020-01-01 00:48:00  shoesfordogs.com/product/evu\n",
       "3           4         403 2020-01-01 00:21:00  shoesfordogs.com/product/oma\n",
       "4           2         201 2020-01-01 00:40:00  shoesfordogs.com/product/yck"
      ]
     },
     "execution_count": 57,
     "metadata": {},
     "output_type": "execute_result"
    }
   ],
   "source": [
    "hits.head()"
   ]
  },
  {
   "cell_type": "code",
   "execution_count": null,
   "metadata": {},
   "outputs": [],
   "source": [
    "pd.DataFrame."
   ]
  }
 ],
 "metadata": {
  "kernelspec": {
   "display_name": "Python 3",
   "language": "python",
   "name": "python3"
  },
  "language_info": {
   "codemirror_mode": {
    "name": "ipython",
    "version": 3
   },
   "file_extension": ".py",
   "mimetype": "text/x-python",
   "name": "python",
   "nbconvert_exporter": "python",
   "pygments_lexer": "ipython3",
   "version": "3.12.8"
  }
 },
 "nbformat": 4,
 "nbformat_minor": 2
}
