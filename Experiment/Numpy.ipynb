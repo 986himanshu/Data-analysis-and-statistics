{
 "cells": [
  {
   "cell_type": "markdown",
   "metadata": {},
   "source": [
    "# Numpy problems"
   ]
  },
  {
   "cell_type": "markdown",
   "metadata": {},
   "source": [
    "### High School Reunion Problem\n",
    "With your high school reunion fast approaching, you decide to get in shape and lose some weight . You record your weight every day for five weeks starting on a Monday.\n",
    "\n",
    "Given these daily weights, build an array with your average weight per weekend1."
   ]
  },
  {
   "cell_type": "code",
   "execution_count": 1,
   "metadata": {},
   "outputs": [
    {
     "name": "stdout",
     "output_type": "stream",
     "text": [
      "[185.  184.8 184.6 184.4 184.2 184.  183.8 183.6 183.4 183.2 183.  182.8\n",
      " 182.6 182.4 182.2 182.  181.8 181.6 181.4 181.2 181.  180.8 180.6 180.4\n",
      " 180.2 180.  179.8 179.6 179.4 179.2 179.  178.8 178.6 178.4 178.2]\n"
     ]
    }
   ],
   "source": [
    "import numpy as np\n",
    "\n",
    "dailywts = 185 - np.arange(5*7)/5\n",
    "\n",
    "print(dailywts)"
   ]
  },
  {
   "cell_type": "code",
   "execution_count": 2,
   "metadata": {},
   "outputs": [
    {
     "data": {
      "text/plain": [
       "array([184. , 182.6, 181.2, 179.8, 178.4])"
      ]
     },
     "execution_count": 2,
     "metadata": {},
     "output_type": "execute_result"
    }
   ],
   "source": [
    "# Problem defintion A weekend includes Saturday and Sunday (but not Friday)"
   ]
  },
  {
   "cell_type": "code",
   "execution_count": 3,
   "metadata": {},
   "outputs": [
    {
     "name": "stdout",
     "output_type": "stream",
     "text": [
      "[183.9 182.5 181.1 179.7 178.3]\n"
     ]
    }
   ],
   "source": [
    "# Approaching using slicing and arthimetic operations\n",
    "\n",
    "weekend_wts = (dailywts[5: : 7] + dailywts[6: : 7])/2\n",
    "print(weekend_wts)"
   ]
  },
  {
   "cell_type": "markdown",
   "metadata": {},
   "source": [
    "### Gold Miner Problem\n",
    "After binge watching the discovery channel, you ditch your job as a trial lawyer to become a gold miner  . You decide to prospect five locations underneath a 7x7 grid of land. How much gold do you uncover at each location?\n",
    "\n",
    "Notes:\n",
    "gold states how much gold is under each location in the 7x7 grid of land\n",
    "\n",
    "locs states the coordinates of the five locations where you dig"
   ]
  },
  {
   "cell_type": "code",
   "execution_count": 4,
   "metadata": {},
   "outputs": [],
   "source": [
    "np.random.seed(5555)\n",
    "gold = np.random.randint(low=0, high=10, size=(7,7))\n",
    "\n",
    "locs = np.array([\n",
    "    [0,4],\n",
    "    [2,2],\n",
    "    [2,3],\n",
    "    [5,1],\n",
    "    [6,3]\n",
    "])"
   ]
  },
  {
   "cell_type": "code",
   "execution_count": 5,
   "metadata": {},
   "outputs": [
    {
     "name": "stdout",
     "output_type": "stream",
     "text": [
      "[[2 3 0 5 2 0 3]\n",
      " [8 8 0 7 1 5 3]\n",
      " [0 1 6 2 1 4 5]\n",
      " [4 0 8 9 9 8 7]\n",
      " [4 2 7 0 7 2 1]\n",
      " [9 8 9 2 5 0 8]\n",
      " [1 9 8 2 6 4 3]]\n"
     ]
    }
   ],
   "source": [
    "print(gold)"
   ]
  },
  {
   "cell_type": "code",
   "execution_count": 7,
   "metadata": {},
   "outputs": [
    {
     "data": {
      "text/plain": [
       "2"
      ]
     },
     "execution_count": 7,
     "metadata": {},
     "output_type": "execute_result"
    }
   ],
   "source": [
    "gold[0,4]"
   ]
  },
  {
   "cell_type": "code",
   "execution_count": 8,
   "metadata": {},
   "outputs": [
    {
     "data": {
      "text/plain": [
       "array([0, 2, 2, 5, 6])"
      ]
     },
     "execution_count": 8,
     "metadata": {},
     "output_type": "execute_result"
    }
   ],
   "source": [
    "locs[ :, 0]"
   ]
  },
  {
   "cell_type": "code",
   "execution_count": 9,
   "metadata": {},
   "outputs": [
    {
     "data": {
      "text/plain": [
       "array([4, 2, 3, 1, 3])"
      ]
     },
     "execution_count": 9,
     "metadata": {},
     "output_type": "execute_result"
    }
   ],
   "source": [
    "locs[ :, 1]"
   ]
  },
  {
   "cell_type": "code",
   "execution_count": 10,
   "metadata": {},
   "outputs": [
    {
     "data": {
      "text/plain": [
       "20"
      ]
     },
     "execution_count": 10,
     "metadata": {},
     "output_type": "execute_result"
    }
   ],
   "source": [
    "gold[ locs[ :, 0] , locs[ :, 1] ].sum()"
   ]
  },
  {
   "cell_type": "markdown",
   "metadata": {},
   "source": [
    "### Chic-fil-A Problem\n",
    "You decide to invest in a series of billboards along interstate 10 to advertise your stylish new chicken restaurant, Chic-fil-A 🐔.\n",
    "\n",
    "* You buy three billboards evenly spaced starting from mile marker 17 and ending on mile marker 28.\n",
    "* You buy another three billboards starting on mile marker 32 and ending on mile marker 36.\n",
    "* In order, from mile marker 17 to 36, your billboards display these ads: A, B, C, C, B, A.\n",
    "\n",
    "Determine how far each B ad is from your restaurant which is located at mile marker 30."
   ]
  },
  {
   "cell_type": "code",
   "execution_count": 12,
   "metadata": {},
   "outputs": [],
   "source": [
    "# ads / restaurant*:   A     B     C   *   C  B  A\n",
    "# billboards:        --|-----|-----|---|---|--|--|--\n",
    "# mile markers:       17          28  30  32    36"
   ]
  },
  {
   "cell_type": "markdown",
   "metadata": {},
   "source": [
    "#### There are two ways to solve this problem through three different operations for evenly spaced lists:\n",
    "* Use np.linspace when you know the number of points you need. (Straight way method but requires learning)\n",
    "* Use np.arange when you know the interval (step size) but not the number of points (Usual and most used operations but requires calculation of step size)\n",
    "* np.geomspace(start, stop, num) generates numbers that are evenly spaced on a logarithmic scale.\n",
    "\n",
    "We’re placing billboards linearly (equal distances), so np.geomspace isn’t ideal since it creates exponential spacing. However, it's worth knowing when you're working with growth rates or percentages."
   ]
  },
  {
   "cell_type": "code",
   "execution_count": 33,
   "metadata": {},
   "outputs": [
    {
     "name": "stdout",
     "output_type": "stream",
     "text": [
      "[17.  22.5 28.  32.  34.  36. ]\n"
     ]
    }
   ],
   "source": [
    "# Using np.arange \n",
    "first_3 = np.arange(17, 28.1 , (28-17)/2)\n",
    "another_3 = np.arange(32, 36.1, (36-32)/2)\n",
    "\n",
    "billboards = np.concatenate((first_3, another_3), axis=0)\n",
    "print(billboards)"
   ]
  },
  {
   "cell_type": "code",
   "execution_count": 34,
   "metadata": {},
   "outputs": [
    {
     "name": "stdout",
     "output_type": "stream",
     "text": [
      "[17.  22.5 28.  32.  34. ]\n"
     ]
    }
   ],
   "source": [
    "# Using linspace\n",
    "first_3 = np.linspace(17, 28, 3)\n",
    "another_3 = np.arange(32, 36, (36-32)/2)\n",
    "\n",
    "billboards = np.concatenate((first_3, another_3), axis=0)\n",
    "print(billboards)"
   ]
  },
  {
   "cell_type": "code",
   "execution_count": 38,
   "metadata": {},
   "outputs": [
    {
     "name": "stdout",
     "output_type": "stream",
     "text": [
      "[7.5 4. ]\n"
     ]
    }
   ],
   "source": [
    "resturant_pos = 30\n",
    "\n",
    "distances = np.abs(billboards[[1,4]] - resturant_pos)\n",
    "print(distances)  # [7.5 4.]\n"
   ]
  },
  {
   "cell_type": "code",
   "execution_count": null,
   "metadata": {},
   "outputs": [],
   "source": []
  }
 ],
 "metadata": {
  "kernelspec": {
   "display_name": "Python 3",
   "language": "python",
   "name": "python3"
  },
  "language_info": {
   "codemirror_mode": {
    "name": "ipython",
    "version": 3
   },
   "file_extension": ".py",
   "mimetype": "text/x-python",
   "name": "python",
   "nbconvert_exporter": "python",
   "pygments_lexer": "ipython3",
   "version": "3.12.8"
  }
 },
 "nbformat": 4,
 "nbformat_minor": 2
}
